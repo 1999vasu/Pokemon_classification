{
 "cells": [
  {
   "cell_type": "code",
   "execution_count": 1,
   "metadata": {},
   "outputs": [
    {
     "name": "stderr",
     "output_type": "stream",
     "text": [
      "Using TensorFlow backend.\n"
     ]
    }
   ],
   "source": [
    "import numpy as np\n",
    "import matplotlib.pyplot as plt\n",
    "from keras.preprocessing import image\n",
    "import os\n",
    "from pathlib import Path\n",
    "import random "
   ]
  },
  {
   "cell_type": "markdown",
   "metadata": {},
   "source": [
    "# Data Preprocessing\n"
   ]
  },
  {
   "cell_type": "code",
   "execution_count": 2,
   "metadata": {},
   "outputs": [
    {
     "name": "stdout",
     "output_type": "stream",
     "text": [
      "0 1 2 3 4 5 6 7 8 9 10 11 12 13 14 15 16 17 18 19 20 21 22 23 24 25 26 27 28 29 30 31 32 33 34 35 36 37 38 39 40 41 42 43 44 45 46 47 48 49 50 51 52 53 54 55 56 57 58 59 60 61 62 63 64 65 66 67 68 69 70 71 72 73 74 75 76 77 78 79 80 81 82 83 84 85 86 87 88 89 90 91 92 93 94 95 96 97 98 99 100 101 102 103 104 105 106 107 108 109 110 111 112 113 114 115 116 117 118 119 120 121 122 123 124 125 126 127 128 129 130 131 132 133 134 135 136 137 138 139 140 141 142 143 144 145 146 147 148 149 150 "
     ]
    }
   ],
   "source": [
    "p = Path('/home/vasu-gupta/Downloads/dataset/dataset/')\n",
    "\n",
    "image_data = []\n",
    "image_labels =[]\n",
    "name_to_label = {}\n",
    "label_to_name = {}\n",
    "label_count = 0\n",
    "img_count = 0\n",
    "\n",
    "for dirs in p.glob('*'):\n",
    "    \n",
    "#     print(dirs)\n",
    "    name = str(dirs).split('/')[-1]\n",
    "    name = name.lower()\n",
    "    name_to_label[name] = label_count\n",
    "    label_to_name[label_count] = name\n",
    "       \n",
    "    for img in dirs.glob('*.jpg'):\n",
    "        img_d = image.load_img(img,target_size=(32,32))\n",
    "        data = image.img_to_array(img_d)\n",
    "        image_data.append(data)\n",
    "        image_labels.append(label_count)\n",
    "        img_count+=1\n",
    "    \n",
    "    \n",
    "    print(label_count,end=' ')\n",
    "    label_count+=1\n",
    "    "
   ]
  },
  {
   "cell_type": "code",
   "execution_count": 3,
   "metadata": {},
   "outputs": [],
   "source": [
    "from keras.models import Sequential\n",
    "from keras.layers import Input,Convolution2D,MaxPooling2D,Flatten,Dense,Dropout\n",
    "from keras.utils import np_utils"
   ]
  },
  {
   "cell_type": "code",
   "execution_count": 4,
   "metadata": {},
   "outputs": [
    {
     "name": "stdout",
     "output_type": "stream",
     "text": [
      "<class 'list'> <class 'list'>\n"
     ]
    }
   ],
   "source": [
    "print(type(image_data),type(image_labels))"
   ]
  },
  {
   "cell_type": "code",
   "execution_count": 5,
   "metadata": {},
   "outputs": [
    {
     "name": "stdout",
     "output_type": "stream",
     "text": [
      "(10118, 32, 32, 3) (10118,)\n"
     ]
    }
   ],
   "source": [
    "image_data = np.array(image_data)\n",
    "image_data = image_data/255.0\n",
    "image_labels = np.array(image_labels)\n",
    "\n",
    "combined = list(zip(image_data,image_labels))\n",
    "random.shuffle(combined)\n",
    "\n",
    "image_data[:],image_labels[:] = zip(*combined)\n",
    "print(image_data.shape,image_labels.shape)\n"
   ]
  },
  {
   "cell_type": "code",
   "execution_count": 6,
   "metadata": {},
   "outputs": [],
   "source": [
    "image_labels = np_utils.to_categorical(image_labels)"
   ]
  },
  {
   "cell_type": "code",
   "execution_count": 7,
   "metadata": {},
   "outputs": [
    {
     "name": "stdout",
     "output_type": "stream",
     "text": [
      "(10118, 32, 32, 3) (10118, 151)\n"
     ]
    }
   ],
   "source": [
    "print(image_data.shape,image_labels.shape)"
   ]
  },
  {
   "cell_type": "markdown",
   "metadata": {},
   "source": [
    "# CNN MODEL"
   ]
  },
  {
   "cell_type": "code",
   "execution_count": 18,
   "metadata": {},
   "outputs": [],
   "source": [
    "model = Sequential()\n",
    "model.add(Convolution2D(32,(3,3),activation = 'relu',input_shape = (32,32,3)))\n",
    "model.add(Convolution2D(64,(3,3),activation = 'relu'))\n",
    "model.add(Dropout(0.25))\n",
    "model.add(MaxPooling2D(2,2))\n",
    "model.add(Convolution2D(32,(5,5),activation = 'relu'))\n",
    "model.add(Flatten())\n",
    "model.add(Dense(151,activation = 'softmax'))"
   ]
  },
  {
   "cell_type": "code",
   "execution_count": 22,
   "metadata": {},
   "outputs": [],
   "source": [
    "model.compile(loss = 'categorical_crossentropy',optimizer='adam', metrics = [\"accuracy\"])"
   ]
  },
  {
   "cell_type": "code",
   "execution_count": 23,
   "metadata": {},
   "outputs": [
    {
     "name": "stdout",
     "output_type": "stream",
     "text": [
      "Train on 8094 samples, validate on 2024 samples\n",
      "Epoch 1/50\n",
      "8094/8094 [==============================] - 11s 1ms/step - loss: 3.5742 - acc: 0.2123 - val_loss: 5.4721 - val_acc: 0.0341\n",
      "Epoch 2/50\n",
      "8094/8094 [==============================] - 11s 1ms/step - loss: 2.7539 - acc: 0.3220 - val_loss: 6.5425 - val_acc: 0.0356\n",
      "Epoch 3/50\n",
      "8094/8094 [==============================] - 11s 1ms/step - loss: 2.3685 - acc: 0.3745 - val_loss: 6.6380 - val_acc: 0.0321\n",
      "Epoch 4/50\n",
      "8094/8094 [==============================] - 11s 1ms/step - loss: 2.1014 - acc: 0.4144 - val_loss: 6.4603 - val_acc: 0.0292\n",
      "Epoch 5/50\n",
      "8094/8094 [==============================] - 11s 1ms/step - loss: 1.9324 - acc: 0.4266 - val_loss: 6.7475 - val_acc: 0.0306\n",
      "Epoch 6/50\n",
      "8094/8094 [==============================] - 11s 1ms/step - loss: 1.8166 - acc: 0.4327 - val_loss: 6.9185 - val_acc: 0.0311\n",
      "Epoch 7/50\n",
      "8094/8094 [==============================] - 11s 1ms/step - loss: 1.7080 - acc: 0.4492 - val_loss: 6.8287 - val_acc: 0.0301\n",
      "Epoch 8/50\n",
      "8094/8094 [==============================] - 12s 1ms/step - loss: 1.6351 - acc: 0.4443 - val_loss: 6.8697 - val_acc: 0.0277\n",
      "Epoch 9/50\n",
      "8094/8094 [==============================] - 12s 1ms/step - loss: 1.5815 - acc: 0.4507 - val_loss: 6.7314 - val_acc: 0.0326\n",
      "Epoch 10/50\n",
      "8094/8094 [==============================] - 12s 1ms/step - loss: 1.5350 - acc: 0.4547 - val_loss: 6.6907 - val_acc: 0.0296\n",
      "Epoch 11/50\n",
      "8094/8094 [==============================] - 12s 1ms/step - loss: 1.4849 - acc: 0.4514 - val_loss: 7.3216 - val_acc: 0.0287\n",
      "Epoch 12/50\n",
      "8094/8094 [==============================] - 12s 1ms/step - loss: 1.4464 - acc: 0.4531 - val_loss: 6.9947 - val_acc: 0.0252\n",
      "Epoch 13/50\n",
      "8094/8094 [==============================] - 12s 1ms/step - loss: 1.4231 - acc: 0.4465 - val_loss: 7.4782 - val_acc: 0.0272\n",
      "Epoch 14/50\n",
      "8094/8094 [==============================] - 12s 1ms/step - loss: 1.3858 - acc: 0.4580 - val_loss: 7.0114 - val_acc: 0.0272\n",
      "Epoch 15/50\n",
      "8094/8094 [==============================] - 12s 1ms/step - loss: 1.3724 - acc: 0.4542 - val_loss: 6.8009 - val_acc: 0.0306\n",
      "Epoch 16/50\n",
      "8094/8094 [==============================] - 12s 1ms/step - loss: 1.3425 - acc: 0.4563 - val_loss: 7.2275 - val_acc: 0.0326\n",
      "Epoch 17/50\n",
      "8094/8094 [==============================] - 12s 1ms/step - loss: 1.3317 - acc: 0.4533 - val_loss: 7.0696 - val_acc: 0.0277\n",
      "Epoch 18/50\n",
      "8094/8094 [==============================] - 12s 1ms/step - loss: 1.3175 - acc: 0.4539 - val_loss: 7.5728 - val_acc: 0.0252\n",
      "Epoch 19/50\n",
      "8094/8094 [==============================] - 12s 1ms/step - loss: 1.2863 - acc: 0.4605 - val_loss: 7.3555 - val_acc: 0.0267\n",
      "Epoch 20/50\n",
      "8094/8094 [==============================] - 12s 1ms/step - loss: 1.2908 - acc: 0.4540 - val_loss: 7.2487 - val_acc: 0.0267\n",
      "Epoch 21/50\n",
      "8094/8094 [==============================] - 12s 1ms/step - loss: 1.2732 - acc: 0.4508 - val_loss: 6.9121 - val_acc: 0.0252\n",
      "Epoch 22/50\n",
      "8094/8094 [==============================] - 12s 1ms/step - loss: 1.2527 - acc: 0.4511 - val_loss: 7.3343 - val_acc: 0.0301\n",
      "Epoch 23/50\n",
      "8094/8094 [==============================] - 12s 1ms/step - loss: 1.2434 - acc: 0.4508 - val_loss: 7.3377 - val_acc: 0.0262\n",
      "Epoch 24/50\n",
      "8094/8094 [==============================] - 12s 1ms/step - loss: 1.2248 - acc: 0.4512 - val_loss: 7.3921 - val_acc: 0.0272\n",
      "Epoch 25/50\n",
      "8094/8094 [==============================] - 12s 1ms/step - loss: 1.2189 - acc: 0.4533 - val_loss: 7.5618 - val_acc: 0.0267\n",
      "Epoch 26/50\n",
      "8094/8094 [==============================] - 12s 1ms/step - loss: 1.2118 - acc: 0.4508 - val_loss: 7.7870 - val_acc: 0.0242\n",
      "Epoch 27/50\n",
      "8094/8094 [==============================] - 12s 1ms/step - loss: 1.1992 - acc: 0.4555 - val_loss: 7.4039 - val_acc: 0.0242\n",
      "Epoch 28/50\n",
      "8094/8094 [==============================] - 12s 1ms/step - loss: 1.1898 - acc: 0.4565 - val_loss: 7.9269 - val_acc: 0.0247\n",
      "Epoch 29/50\n",
      "8094/8094 [==============================] - 12s 1ms/step - loss: 1.1782 - acc: 0.4543 - val_loss: 7.7083 - val_acc: 0.0272\n",
      "Epoch 30/50\n",
      "8094/8094 [==============================] - 12s 1ms/step - loss: 1.1683 - acc: 0.4598 - val_loss: 7.7478 - val_acc: 0.0262\n",
      "Epoch 31/50\n",
      "8094/8094 [==============================] - 12s 1ms/step - loss: 1.1467 - acc: 0.4558 - val_loss: 7.5651 - val_acc: 0.0237\n",
      "Epoch 32/50\n",
      "8094/8094 [==============================] - 12s 1ms/step - loss: 1.1541 - acc: 0.4538 - val_loss: 7.7738 - val_acc: 0.0247\n",
      "Epoch 33/50\n",
      "8094/8094 [==============================] - 12s 1ms/step - loss: 1.1421 - acc: 0.4533 - val_loss: 7.9235 - val_acc: 0.0277\n",
      "Epoch 34/50\n",
      "8094/8094 [==============================] - 12s 1ms/step - loss: 1.1298 - acc: 0.4566 - val_loss: 7.6943 - val_acc: 0.0257\n",
      "Epoch 35/50\n",
      "8094/8094 [==============================] - 12s 1ms/step - loss: 1.1295 - acc: 0.4601 - val_loss: 7.9399 - val_acc: 0.0282\n",
      "Epoch 36/50\n",
      "8094/8094 [==============================] - 12s 1ms/step - loss: 1.1187 - acc: 0.4589 - val_loss: 8.0910 - val_acc: 0.0282\n",
      "Epoch 37/50\n",
      "8094/8094 [==============================] - 11s 1ms/step - loss: 1.1080 - acc: 0.4587 - val_loss: 7.9088 - val_acc: 0.0242\n",
      "Epoch 38/50\n",
      "8094/8094 [==============================] - 11s 1ms/step - loss: 1.1112 - acc: 0.4537 - val_loss: 7.8816 - val_acc: 0.0257\n",
      "Epoch 39/50\n",
      "8094/8094 [==============================] - 12s 1ms/step - loss: 1.0993 - acc: 0.4601 - val_loss: 7.4004 - val_acc: 0.0242\n",
      "Epoch 40/50\n",
      "8094/8094 [==============================] - 11s 1ms/step - loss: 1.1017 - acc: 0.4555 - val_loss: 8.1468 - val_acc: 0.0272\n",
      "Epoch 41/50\n",
      "8094/8094 [==============================] - 12s 1ms/step - loss: 1.0834 - acc: 0.4563 - val_loss: 8.1008 - val_acc: 0.0262\n",
      "Epoch 42/50\n",
      "8094/8094 [==============================] - 12s 1ms/step - loss: 1.0805 - acc: 0.4603 - val_loss: 7.6669 - val_acc: 0.0247\n",
      "Epoch 43/50\n",
      "8094/8094 [==============================] - 11s 1ms/step - loss: 1.0674 - acc: 0.4587 - val_loss: 8.3853 - val_acc: 0.0252\n",
      "Epoch 44/50\n",
      "8094/8094 [==============================] - 12s 1ms/step - loss: 1.0710 - acc: 0.4566 - val_loss: 7.9274 - val_acc: 0.0262\n",
      "Epoch 45/50\n",
      "8094/8094 [==============================] - 11s 1ms/step - loss: 1.0612 - acc: 0.4549 - val_loss: 8.1500 - val_acc: 0.0252\n",
      "Epoch 46/50\n",
      "8094/8094 [==============================] - 11s 1ms/step - loss: 1.0551 - acc: 0.4548 - val_loss: 7.9655 - val_acc: 0.0272\n",
      "Epoch 47/50\n",
      "8094/8094 [==============================] - 12s 1ms/step - loss: 1.0440 - acc: 0.4652 - val_loss: 8.1278 - val_acc: 0.0292\n",
      "Epoch 48/50\n",
      "8094/8094 [==============================] - 11s 1ms/step - loss: 1.0490 - acc: 0.4616 - val_loss: 8.2877 - val_acc: 0.0262\n",
      "Epoch 49/50\n",
      "8094/8094 [==============================] - 12s 1ms/step - loss: 1.0477 - acc: 0.4571 - val_loss: 8.3215 - val_acc: 0.0247\n",
      "Epoch 50/50\n",
      "8094/8094 [==============================] - 11s 1ms/step - loss: 1.0398 - acc: 0.4668 - val_loss: 8.4220 - val_acc: 0.0252\n"
     ]
    }
   ],
   "source": [
    "hist = model.fit(image_data,image_labels,epochs=50,validation_split = 0.2)"
   ]
  },
  {
   "cell_type": "code",
   "execution_count": 25,
   "metadata": {},
   "outputs": [
    {
     "data": {
      "image/png": "[encoded data removed]",
      "text/plain": [
       "<matplotlib.figure.Figure at 0x7fc76047e6d8>"
      ]
     },
     "metadata": {
      "needs_background": "light"
     },
     "output_type": "display_data"
    }
   ],
   "source": [
    "plt.figure()\n",
    "plt.plot(hist.history['loss'],'g')\n",
    "plt.plot(hist.history['val_loss'],'b')\n",
    "\n",
    "plt.plot(hist.history['acc'],'r')\n",
    "plt.plot(hist.history['val_acc'],'y')\n",
    "plt.show()\n"
   ]
  },
  {
   "cell_type": "code",
   "execution_count": null,
   "metadata": {},
   "outputs": [],
   "source": []
  }
 ],
 "metadata": {
  "kernelspec": {
   "display_name": "Python 3",
   "language": "python",
   "name": "python3"
  },
  "language_info": {
   "codemirror_mode": {
    "name": "ipython",
    "version": 3
   },
   "file_extension": ".py",
   "mimetype": "text/x-python",
   "name": "python",
   "nbconvert_exporter": "python",
   "pygments_lexer": "ipython3",
   "version": "3.6.7"
  }
 },
 "nbformat": 4,
 "nbformat_minor": 2
}
