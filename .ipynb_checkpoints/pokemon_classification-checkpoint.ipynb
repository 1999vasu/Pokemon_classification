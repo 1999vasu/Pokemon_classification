{
 "cells": [
  {
   "cell_type": "code",
   "execution_count": 1,
   "metadata": {},
   "outputs": [
    {
     "name": "stderr",
     "output_type": "stream",
     "text": [
      "Using TensorFlow backend.\n"
     ]
    }
   ],
   "source": [
    "import numpy as np\n",
    "import matplotlib.pyplot as plt\n",
    "from keras.preprocessing import image\n",
    "import os\n",
    "from pathlib import Path\n",
    "import random "
   ]
  },
  {
   "cell_type": "markdown",
   "metadata": {},
   "source": [
    "# Data Preprocessing\n"
   ]
  },
  {
   "cell_type": "code",
   "execution_count": 2,
   "metadata": {},
   "outputs": [
    {
     "name": "stdout",
     "output_type": "stream",
     "text": [
      "0 1 2 3 4 5 6 7 8 9 10 11 12 13 14 15 16 17 18 19 20 21 22 23 24 25 26 27 28 29 30 31 32 33 34 35 36 37 38 39 40 41 42 43 44 45 46 47 48 49 50 51 52 53 54 55 56 57 58 59 60 61 62 63 64 65 66 67 68 69 70 71 72 73 74 75 76 77 78 79 80 81 82 83 84 85 86 87 88 89 90 91 92 93 94 95 96 97 98 99 100 101 102 103 104 105 106 107 108 109 110 111 112 113 114 115 116 117 118 119 120 121 122 123 124 125 126 127 128 129 130 131 132 133 134 135 136 137 138 139 140 141 142 143 144 145 146 147 148 149 150 "
     ]
    }
   ],
   "source": [
    "p = Path('/home/vasu-gupta/Downloads/dataset/dataset/')\n",
    "\n",
    "image_data = []\n",
    "image_labels =[]\n",
    "name_to_label = {}\n",
    "label_to_name = {}\n",
    "label_count = 0\n",
    "img_count = 0\n",
    "\n",
    "for dirs in p.glob('*'):\n",
    "    \n",
    "#     print(dirs)\n",
    "    name = str(dirs).split('/')[-1]\n",
    "    name = name.lower()\n",
    "    name_to_label[name] = label_count\n",
    "    label_to_name[label_count] = name\n",
    "       \n",
    "    for img in dirs.glob('*.jpg'):\n",
    "        img_d = image.load_img(img,target_size=(32,32))\n",
    "        data = image.img_to_array(img_d)\n",
    "        image_data.append(data)\n",
    "        image_labels.append(label_count)\n",
    "        img_count+=1\n",
    "    \n",
    "    \n",
    "    print(label_count,end=' ')\n",
    "    label_count+=1\n",
    "    "
   ]
  },
  {
   "cell_type": "code",
   "execution_count": 3,
   "metadata": {},
   "outputs": [],
   "source": [
    "from keras.models import Sequential\n",
    "from keras.layers import Input,Convolution2D,MaxPooling2D,Flatten,Dense,Dropout\n",
    "from keras.utils import np_utils"
   ]
  },
  {
   "cell_type": "code",
   "execution_count": 4,
   "metadata": {},
   "outputs": [
    {
     "name": "stdout",
     "output_type": "stream",
     "text": [
      "<class 'list'> <class 'list'>\n"
     ]
    }
   ],
   "source": [
    "print(type(image_data),type(image_labels))"
   ]
  },
  {
   "cell_type": "code",
   "execution_count": 5,
   "metadata": {},
   "outputs": [
    {
     "name": "stdout",
     "output_type": "stream",
     "text": [
      "(10118, 32, 32, 3) (10118,)\n"
     ]
    }
   ],
   "source": [
    "image_data = np.array(image_data)\n",
    "image_data = image_data/255.0\n",
    "image_labels = np.array(image_labels)\n",
    "\n",
    "combined = list(zip(image_data,image_labels))\n",
    "random.shuffle(combined)\n",
    "\n",
    "image_data[:],image_labels[:] = zip(*combined)\n",
    "print(image_data.shape,image_labels.shape)\n"
   ]
  },
  {
   "cell_type": "code",
   "execution_count": 6,
   "metadata": {},
   "outputs": [],
   "source": [
    "image_labels = np_utils.to_categorical(image_labels)"
   ]
  },
  {
   "cell_type": "code",
   "execution_count": 7,
   "metadata": {},
   "outputs": [
    {
     "name": "stdout",
     "output_type": "stream",
     "text": [
      "(10118, 32, 32, 3) (10118, 151)\n"
     ]
    }
   ],
   "source": [
    "print(image_data.shape,image_labels.shape)"
   ]
  },
  {
   "cell_type": "markdown",
   "metadata": {},
   "source": [
    "# CNN MODEL"
   ]
  },
  {
   "cell_type": "code",
   "execution_count": 15,
   "metadata": {},
   "outputs": [],
   "source": [
    "model = Sequential()\n",
    "model.add(Convolution2D(32,(3,3),activation = 'relu',input_shape = (32,32,3)))\n",
    "model.add(Convolution2D(64,(3,3),activation = 'relu'))\n",
    "model.add(Dropout(0.25))\n",
    "model.add(MaxPooling2D(2,2))\n",
    "model.add(Convolution2D(32,(5,5),activation = 'relu'))\n",
    "model.add(Convolution2D(16,(5,5),activation = 'relu'))\n",
    "model.add(Flatten())\n",
    "model.add(Dense(151,activation = 'softmax'))"
   ]
  },
  {
   "cell_type": "code",
   "execution_count": 16,
   "metadata": {},
   "outputs": [],
   "source": [
    "model.compile(loss = 'categorical_crossentropy',optimizer='SGD', metrics = [\"accuracy\"])"
   ]
  },
  {
   "cell_type": "code",
   "execution_count": null,
   "metadata": {},
   "outputs": [
    {
     "name": "stdout",
     "output_type": "stream",
     "text": [
      "Train on 8094 samples, validate on 2024 samples\n",
      "Epoch 1/50\n",
      "8094/8094 [==============================] - 3s 408us/step - loss: 5.0314 - acc: 0.0157 - val_loss: 4.9846 - val_acc: 0.0203\n",
      "Epoch 2/50\n",
      "8094/8094 [==============================] - 3s 386us/step - loss: 4.9652 - acc: 0.0196 - val_loss: 4.9699 - val_acc: 0.0193\n",
      "Epoch 3/50\n",
      "8094/8094 [==============================] - 3s 404us/step - loss: 4.9575 - acc: 0.0200 - val_loss: 4.9682 - val_acc: 0.0183\n",
      "Epoch 4/50\n",
      "8094/8094 [==============================] - 3s 390us/step - loss: 4.9545 - acc: 0.0201 - val_loss: 4.9667 - val_acc: 0.0217\n",
      "Epoch 5/50\n",
      "8094/8094 [==============================] - 3s 391us/step - loss: 4.9523 - acc: 0.0210 - val_loss: 4.9647 - val_acc: 0.0203\n",
      "Epoch 6/50\n",
      "8094/8094 [==============================] - 3s 424us/step - loss: 4.9508 - acc: 0.0220 - val_loss: 4.9638 - val_acc: 0.0237\n",
      "Epoch 7/50\n",
      "8094/8094 [==============================] - 3s 397us/step - loss: 4.9492 - acc: 0.0245 - val_loss: 4.9645 - val_acc: 0.0227\n",
      "Epoch 8/50\n",
      "8094/8094 [==============================] - 3s 399us/step - loss: 4.9471 - acc: 0.0235 - val_loss: 4.9650 - val_acc: 0.0203\n",
      "Epoch 9/50\n",
      "8094/8094 [==============================] - 3s 405us/step - loss: 4.9460 - acc: 0.0214 - val_loss: 4.9639 - val_acc: 0.0242\n",
      "Epoch 10/50\n",
      "8094/8094 [==============================] - 3s 408us/step - loss: 4.9446 - acc: 0.0235 - val_loss: 4.9621 - val_acc: 0.0208\n",
      "Epoch 11/50\n",
      "8094/8094 [==============================] - 3s 400us/step - loss: 4.9428 - acc: 0.0247 - val_loss: 4.9617 - val_acc: 0.0203\n",
      "Epoch 12/50\n",
      "8094/8094 [==============================] - 3s 403us/step - loss: 4.9413 - acc: 0.0258 - val_loss: 4.9613 - val_acc: 0.0232\n",
      "Epoch 13/50\n",
      "8094/8094 [==============================] - 3s 410us/step - loss: 4.9401 - acc: 0.0247 - val_loss: 4.9623 - val_acc: 0.0232\n",
      "Epoch 14/50\n",
      "8094/8094 [==============================] - 3s 407us/step - loss: 4.9384 - acc: 0.0272 - val_loss: 4.9619 - val_acc: 0.0257\n",
      "Epoch 15/50\n",
      "8094/8094 [==============================] - 3s 405us/step - loss: 4.9376 - acc: 0.0268 - val_loss: 4.9617 - val_acc: 0.0212\n",
      "Epoch 16/50\n",
      "8094/8094 [==============================] - 3s 411us/step - loss: 4.9359 - acc: 0.0274 - val_loss: 4.9614 - val_acc: 0.0242\n",
      "Epoch 17/50\n",
      "8094/8094 [==============================] - 3s 413us/step - loss: 4.9341 - acc: 0.0285 - val_loss: 4.9611 - val_acc: 0.0247\n",
      "Epoch 18/50\n",
      "8094/8094 [==============================] - 3s 389us/step - loss: 4.9328 - acc: 0.0258 - val_loss: 4.9604 - val_acc: 0.0222\n",
      "Epoch 19/50\n",
      "8094/8094 [==============================] - 3s 387us/step - loss: 4.9310 - acc: 0.0278 - val_loss: 4.9597 - val_acc: 0.0237\n",
      "Epoch 20/50\n",
      "8094/8094 [==============================] - 3s 386us/step - loss: 4.9293 - acc: 0.0287 - val_loss: 4.9600 - val_acc: 0.0237\n",
      "Epoch 21/50\n",
      "2336/8094 [=======>......................] - ETA: 2s - loss: 4.9155 - acc: 0.0291"
     ]
    }
   ],
   "source": [
    "hist = model.fit(image_data,image_labels,shuffle= True,epochs=50,validation_split = 0.2)"
   ]
  },
  {
   "cell_type": "code",
   "execution_count": null,
   "metadata": {},
   "outputs": [],
   "source": []
  }
 ],
 "metadata": {
  "kernelspec": {
   "display_name": "Python 3",
   "language": "python",
   "name": "python3"
  },
  "language_info": {
   "codemirror_mode": {
    "name": "ipython",
    "version": 3
   },
   "file_extension": ".py",
   "mimetype": "text/x-python",
   "name": "python",
   "nbconvert_exporter": "python",
   "pygments_lexer": "ipython3",
   "version": "3.6.7"
  }
 },
 "nbformat": 4,
 "nbformat_minor": 2
}
